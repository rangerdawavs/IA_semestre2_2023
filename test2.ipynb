{
 "cells": [
  {
   "attachments": {},
   "cell_type": "markdown",
   "metadata": {},
   "source": [
    "test2\n",
    "andrew y ernesto"
   ]
  },
  {
   "cell_type": "code",
   "execution_count": 75,
   "metadata": {},
   "outputs": [
    {
     "name": "stdout",
     "output_type": "stream",
     "text": [
      "testing\n"
     ]
    }
   ],
   "source": [
    "import pandas as pd\n",
    "import tensorflow as tf\n",
    "import numpy as np\n",
    "import matplotlib.pyplot as plt\n",
    "print(\"testing\")"
   ]
  },
  {
   "cell_type": "code",
   "execution_count": 76,
   "metadata": {},
   "outputs": [
    {
     "name": "stdout",
     "output_type": "stream",
     "text": [
      "       Airline Date_of_Journey    Source Destination                  Route  \\\n",
      "0       IndiGo      24/03/2019  Banglore   New Delhi              BLR → DEL   \n",
      "1    Air India       1/05/2019   Kolkata    Banglore  CCU → IXR → BBI → BLR   \n",
      "2  Jet Airways       9/06/2019     Delhi      Cochin  DEL → LKO → BOM → COK   \n",
      "3       IndiGo      12/05/2019   Kolkata    Banglore        CCU → NAG → BLR   \n",
      "4       IndiGo      01/03/2019  Banglore   New Delhi        BLR → NAG → DEL   \n",
      "\n",
      "  Dep_Time  Arrival_Time Duration Total_Stops Additional_Info  Price  \n",
      "0    22:20  01:10 22 Mar   2h 50m    non-stop         No info   3897  \n",
      "1    05:50         13:15   7h 25m     2 stops         No info   7662  \n",
      "2    09:25  04:25 10 Jun      19h     2 stops         No info  13882  \n",
      "3    18:05         23:30   5h 25m      1 stop         No info   6218  \n",
      "4    16:50         21:35   4h 45m      1 stop         No info  13302  \n"
     ]
    }
   ],
   "source": [
    "dataset = pd.read_excel(\"Data_Train.xlsx\")\n",
    "#print(dataset.describe(include='all'))\n",
    "print(dataset.head())"
   ]
  },
  {
   "cell_type": "code",
   "execution_count": 77,
   "metadata": {},
   "outputs": [],
   "source": [
    "# Función que convierte los datos no numéricos de\n",
    "# la propiedad \"Total_Stops\" en numéricos.\n",
    "# Entrada: stringDtype; Salida: integer\n",
    "def uniform_stops(data):\n",
    "    if type(data) == float: # De ser un dato vacío,\n",
    "        data = 0 # Asigna una cantidad de 0 horas.\n",
    "    elif type(data) != np.int64: # De ser el dato un string,\n",
    "        # inicia el ciclo.\n",
    "        if data == \"non-stop\": # Si \"non-stop\",\n",
    "            data = 0 # Guarda el número de paradas como 0\n",
    "        else: # Sino,\n",
    "            data = int(data[0]) # Guarda el número de paradas que corresponde\n",
    "            # al primer dígito del dato.\n",
    "    return data\n",
    "# Función que convierte los datos no numéricos de\n",
    "# la propiedad \"Duration\" en numéricos.\n",
    "# Entrada: stringDtype; Salida: integer\n",
    "def uniform_duration(data):\n",
    "    if data.find(\"m\") == -1: # Dato con formato “#h”\n",
    "        [horas] = data.split(\" \") # Asigna a \"horas\"\n",
    "        horas = horas.strip(\"h\") # el número de horas\n",
    "        minutos = 0 # y a \"minutos\" 0\n",
    "    elif data.find(\"h\") == -1: # Dato con formato “#m”\n",
    "        [minutos] = data.split(\" \") # Asigna a \"minutos\"\n",
    "        minutos = minutos.strip(\"m\") # el número de minutos\n",
    "        horas = 0 # y a \"horas\" 0\n",
    "    else:\n",
    "        [horas, minutos] = data.split(\" \") # Dato con formato “#h #m”\n",
    "        minutos = minutos.strip(\"m\") # Extrae las horas y minutos\n",
    "        horas = horas.strip(\"h\") # y los asigna a la variable apropiada\n",
    "    # Se suma la cantidad de minutos totales que durará el vuelo\n",
    "    data = int(horas)*60 + int(minutos)\n",
    "    return data\n"
   ]
  },
  {
   "cell_type": "code",
   "execution_count": 78,
   "metadata": {},
   "outputs": [
    {
     "name": "stdout",
     "output_type": "stream",
     "text": [
      "       Duration  Total_Stops     Price\n",
      "0      0.057793         0.00  0.027497\n",
      "1      0.154116         0.50  0.075920\n",
      "2      0.397548         0.50  0.155917\n",
      "3      0.112084         0.25  0.057348\n",
      "4      0.098074         0.25  0.148457\n",
      "...         ...          ...       ...\n",
      "10678  0.050788         0.00  0.030198\n",
      "10679  0.052539         0.00  0.030687\n",
      "10680  0.061296         0.00  0.070351\n",
      "10681  0.054291         0.00  0.140046\n",
      "10682  0.173380         0.50  0.128535\n",
      "\n",
      "[10683 rows x 3 columns]\n"
     ]
    }
   ],
   "source": [
    "# Procesamiento de datos\n",
    "dataset[\"Duration\"] = dataset[\"Duration\"].apply(lambda x: uniform_duration(x))\n",
    "dataset[\"Total_Stops\"] = dataset[\"Total_Stops\"].apply(lambda x: uniform_stops(x))\n",
    "dataset = dataset[[\"Duration\", \"Total_Stops\",\"Price\"]]\n",
    "# Normalizado\n",
    "max_val = dataset.max(axis=0) # Se obtiene el máximo de cada columna\n",
    "min_val = dataset.min(axis=0) # Se obtiene el mínimo de cada columna\n",
    "range = max_val - min_val # Se obtiene la diferencia de los dos\n",
    "dataset = (dataset - min_val)/(range) # Y se utiliza para normalizarlas\n",
    "dataset = dataset.astype(float) # Se asegura que los datos sean tipo float\n",
    "print(dataset)"
   ]
  },
  {
   "cell_type": "code",
   "execution_count": 79,
   "metadata": {},
   "outputs": [
    {
     "name": "stdout",
     "output_type": "stream",
     "text": [
      "      Duration  Total_Stops     Price\n",
      "6851  0.199650         0.25  0.140612\n",
      "9318  0.059545         0.00  0.028089\n",
      "551   0.387040         0.25  0.232390\n",
      "1387  0.127846         0.25  0.030185\n",
      "4332  0.259194         0.25  0.084974\n",
      "...        ...          ...       ...\n",
      "6983  0.057793         0.00  0.055753\n",
      "1930  0.288967         0.50  0.149409\n",
      "6253  0.162872         0.25  0.056487\n",
      "8579  0.050788         0.00  0.034082\n",
      "140   0.166375         0.25  0.144792\n",
      "\n",
      "[7478 rows x 3 columns]\n",
      "       Duration  Total_Stops     Price\n",
      "2      0.397548         0.50  0.155917\n",
      "9      0.162872         0.25  0.088305\n",
      "11     0.052539         0.00  0.031060\n",
      "21     0.320490         0.25  0.066827\n",
      "22     0.057793         0.00  0.028089\n",
      "...         ...          ...       ...\n",
      "10665  0.050788         0.00  0.039162\n",
      "10668  0.152364         0.50  0.250280\n",
      "10676  0.180385         0.25  0.103340\n",
      "10677  0.054291         0.00  0.019266\n",
      "10680  0.061296         0.00  0.070351\n",
      "\n",
      "[3205 rows x 3 columns]\n"
     ]
    }
   ],
   "source": [
    "train_percentage=0.7\n",
    "# Distribución de los datos\n",
    "trainset = dataset.sample(frac=train_percentage) # Se extraen datos\n",
    "# para el entrenamiento\n",
    "testset = dataset.drop(trainset.index) # Y se le quitan esos mismos\n",
    "# al dataset para crear los datos de prueba\n",
    "print(trainset)\n",
    "print(testset)"
   ]
  },
  {
   "cell_type": "code",
   "execution_count": 80,
   "metadata": {},
   "outputs": [],
   "source": [
    "network = tf.keras.models.Sequential()\n",
    "# Declaración de la capa de entrada\n",
    "network.add(tf.keras.layers.Dense(\n",
    "units=10,\n",
    "input_shape=(2,)))\n",
    "# Ciclo de capas de neuronas intermedias\n",
    "i = 0\n",
    "while i < 2-1:\n",
    "    network.add(tf.keras.layers.Dense(\n",
    "    units=10,\n",
    "    activation=\"relu\"))\n",
    "    i += 1\n",
    "# Declaración de la capa de salida\n",
    "network.add(tf.keras.layers.Dense(\n",
    "units=1,\n",
    "activation=\"sigmoid\"))"
   ]
  },
  {
   "cell_type": "code",
   "execution_count": 81,
   "metadata": {},
   "outputs": [],
   "source": [
    "network.compile(\n",
    "optimizer=\"adam\",\n",
    "loss=\"mse\")"
   ]
  },
  {
   "cell_type": "code",
   "execution_count": 82,
   "metadata": {},
   "outputs": [
    {
     "name": "stdout",
     "output_type": "stream",
     "text": [
      "Epoch 1/40\n",
      "25/25 [==============================] - 1s 10ms/step - loss: 0.0842 - val_loss: 0.0633\n",
      "Epoch 2/40\n",
      "25/25 [==============================] - 0s 5ms/step - loss: 0.0445 - val_loss: 0.0317\n",
      "Epoch 3/40\n",
      "25/25 [==============================] - 0s 5ms/step - loss: 0.0235 - val_loss: 0.0184\n",
      "Epoch 4/40\n",
      "25/25 [==============================] - 0s 4ms/step - loss: 0.0153 - val_loss: 0.0132\n",
      "Epoch 5/40\n",
      "25/25 [==============================] - 0s 4ms/step - loss: 0.0120 - val_loss: 0.0110\n",
      "Epoch 6/40\n",
      "25/25 [==============================] - 0s 4ms/step - loss: 0.0106 - val_loss: 0.0099\n",
      "Epoch 7/40\n",
      "25/25 [==============================] - 0s 4ms/step - loss: 0.0097 - val_loss: 0.0091\n",
      "Epoch 8/40\n",
      "25/25 [==============================] - 0s 4ms/step - loss: 0.0091 - val_loss: 0.0085\n",
      "Epoch 9/40\n",
      "25/25 [==============================] - 0s 4ms/step - loss: 0.0084 - val_loss: 0.0078\n",
      "Epoch 10/40\n",
      "25/25 [==============================] - 0s 4ms/step - loss: 0.0077 - val_loss: 0.0070\n",
      "Epoch 11/40\n",
      "25/25 [==============================] - 0s 4ms/step - loss: 0.0067 - val_loss: 0.0061\n",
      "Epoch 12/40\n",
      "25/25 [==============================] - 0s 5ms/step - loss: 0.0057 - val_loss: 0.0050\n",
      "Epoch 13/40\n",
      "25/25 [==============================] - 0s 5ms/step - loss: 0.0046 - val_loss: 0.0041\n",
      "Epoch 14/40\n",
      "25/25 [==============================] - 0s 4ms/step - loss: 0.0038 - val_loss: 0.0034\n",
      "Epoch 15/40\n",
      "25/25 [==============================] - 0s 4ms/step - loss: 0.0032 - val_loss: 0.0030\n",
      "Epoch 16/40\n",
      "25/25 [==============================] - 0s 4ms/step - loss: 0.0028 - val_loss: 0.0026\n",
      "Epoch 17/40\n",
      "25/25 [==============================] - 0s 4ms/step - loss: 0.0025 - val_loss: 0.0024\n",
      "Epoch 18/40\n",
      "25/25 [==============================] - 0s 4ms/step - loss: 0.0023 - val_loss: 0.0023\n",
      "Epoch 19/40\n",
      "25/25 [==============================] - 0s 4ms/step - loss: 0.0022 - val_loss: 0.0023\n",
      "Epoch 20/40\n",
      "25/25 [==============================] - 0s 4ms/step - loss: 0.0022 - val_loss: 0.0022\n",
      "Epoch 21/40\n",
      "25/25 [==============================] - 0s 4ms/step - loss: 0.0022 - val_loss: 0.0022\n",
      "Epoch 22/40\n",
      "25/25 [==============================] - 0s 4ms/step - loss: 0.0021 - val_loss: 0.0022\n",
      "Epoch 23/40\n",
      "25/25 [==============================] - 0s 4ms/step - loss: 0.0021 - val_loss: 0.0022\n",
      "Epoch 24/40\n",
      "25/25 [==============================] - 0s 6ms/step - loss: 0.0021 - val_loss: 0.0022\n",
      "Epoch 25/40\n",
      "25/25 [==============================] - 0s 5ms/step - loss: 0.0021 - val_loss: 0.0022\n",
      "Epoch 26/40\n",
      "25/25 [==============================] - 0s 4ms/step - loss: 0.0021 - val_loss: 0.0022\n",
      "Epoch 27/40\n",
      "25/25 [==============================] - 0s 4ms/step - loss: 0.0021 - val_loss: 0.0021\n",
      "Epoch 28/40\n",
      "25/25 [==============================] - 0s 4ms/step - loss: 0.0021 - val_loss: 0.0021\n",
      "Epoch 29/40\n",
      "25/25 [==============================] - 0s 4ms/step - loss: 0.0021 - val_loss: 0.0021\n",
      "Epoch 30/40\n",
      "25/25 [==============================] - 0s 4ms/step - loss: 0.0021 - val_loss: 0.0021\n",
      "Epoch 31/40\n",
      "25/25 [==============================] - 0s 4ms/step - loss: 0.0021 - val_loss: 0.0021\n",
      "Epoch 32/40\n",
      "25/25 [==============================] - 0s 4ms/step - loss: 0.0021 - val_loss: 0.0021\n",
      "Epoch 33/40\n",
      "25/25 [==============================] - 0s 4ms/step - loss: 0.0021 - val_loss: 0.0021\n",
      "Epoch 34/40\n",
      "25/25 [==============================] - 0s 4ms/step - loss: 0.0021 - val_loss: 0.0021\n",
      "Epoch 35/40\n",
      "25/25 [==============================] - 0s 5ms/step - loss: 0.0021 - val_loss: 0.0021\n",
      "Epoch 36/40\n",
      "25/25 [==============================] - 0s 5ms/step - loss: 0.0021 - val_loss: 0.0021\n",
      "Epoch 37/40\n",
      "25/25 [==============================] - 0s 4ms/step - loss: 0.0021 - val_loss: 0.0021\n",
      "Epoch 38/40\n",
      "25/25 [==============================] - 0s 4ms/step - loss: 0.0021 - val_loss: 0.0021\n",
      "Epoch 39/40\n",
      "25/25 [==============================] - 0s 4ms/step - loss: 0.0020 - val_loss: 0.0021\n",
      "Epoch 40/40\n",
      "25/25 [==============================] - 0s 4ms/step - loss: 0.0020 - val_loss: 0.0021\n"
     ]
    }
   ],
   "source": [
    "losses = network.fit(x=trainset[[\"Duration\", \"Total_Stops\"]],\n",
    "y=trainset['Price'],\n",
    "validation_data=(\n",
    "testset[[\"Duration\", \"Total_Stops\"]],\n",
    "testset['Price']),\n",
    "batch_size=300,\n",
    "epochs=40\n",
    ")"
   ]
  },
  {
   "cell_type": "code",
   "execution_count": 83,
   "metadata": {},
   "outputs": [
    {
     "data": {
      "image/png": "[encoded data removed]",
      "text/plain": [
       "<Figure size 640x480 with 1 Axes>"
      ]
     },
     "metadata": {},
     "output_type": "display_data"
    }
   ],
   "source": [
    "# Se extrae el historial de error contra iteraciones de la clase\n",
    "loss_df = pd.DataFrame(losses.history)\n",
    "# Se grafica\n",
    "loss_df.loc[:, ['loss', 'val_loss']].plot()\n",
    "# Y se pide que se muestre la ventana en que se graficó\n",
    "plt.show()"
   ]
  },
  {
   "cell_type": "code",
   "execution_count": 84,
   "metadata": {},
   "outputs": [
    {
     "name": "stdout",
     "output_type": "stream",
     "text": [
      "1/1 [==============================] - 0s 81ms/step\n",
      "Dato ingresado:\n",
      "      Duration  Total_Stops    Price\n",
      "3996    1035.0          2.0  16057.0\n",
      "9443     765.0          1.0   7480.0\n",
      "2499     650.0          1.0  15342.0\n",
      "8436    1580.0          2.0  13381.0\n",
      "1950     400.0          1.0  14781.0\n",
      "7857     480.0          1.0   6883.0\n",
      "5571     360.0          1.0  14714.0\n",
      "9266     400.0          1.0  22270.0\n",
      "7900     165.0          0.0   5823.0\n",
      "5963     140.0          0.0   6300.0\n",
      "Estimación: \n",
      "      Duration  Total_Stops         Price\n",
      "3996    1035.0          2.0  12734.090666\n",
      "9443     765.0          1.0  10779.733438\n",
      "2499     650.0          1.0  10618.125883\n",
      "8436    1580.0          2.0  12199.363192\n",
      "1950     400.0          1.0   9715.875156\n",
      "7857     480.0          1.0  10040.404709\n",
      "5571     360.0          1.0   9557.876091\n",
      "9266     400.0          1.0   9715.875156\n",
      "7900     165.0          0.0   5141.216879\n",
      "5963     140.0          0.0   5096.377803\n"
     ]
    }
   ],
   "source": [
    "# Se eligen 10 datos al azar\n",
    "dato = dataset.sample(frac=10/dataset.shape[0])\n",
    "datoPrueba = dato.drop(columns=[\"Price\"])\n",
    "# Y se predice el precio que tendría, luego de\n",
    "# revertir la normalización\n",
    "precio = network.predict(datoPrueba)\n",
    "print(\"Dato ingresado:\")\n",
    "print(dato*range+ min_val) # Se normalizan los datos\n",
    "dato[\"Price\"] = precio\n",
    "print(\"Estimación: \")\n",
    "print(dato*range+ min_val)"
   ]
  },
  {
   "cell_type": "code",
   "execution_count": 85,
   "metadata": {},
   "outputs": [],
   "source": [
    "from ann_visualizer.visualize import ann_viz;\n",
    "#Build your model here\n",
    "ann_viz(network)"
   ]
  }
 ],
 "metadata": {
  "kernelspec": {
   "display_name": "Python 3",
   "language": "python",
   "name": "python3"
  },
  "language_info": {
   "codemirror_mode": {
    "name": "ipython",
    "version": 3
   },
   "file_extension": ".py",
   "mimetype": "text/x-python",
   "name": "python",
   "nbconvert_exporter": "python",
   "pygments_lexer": "ipython3",
   "version": "3.9.6"
  },
  "orig_nbformat": 4
 },
 "nbformat": 4,
 "nbformat_minor": 2
}

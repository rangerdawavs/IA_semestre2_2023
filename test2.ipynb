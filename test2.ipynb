{
 "cells": [
  {
   "attachments": {},
   "cell_type": "markdown",
   "metadata": {},
   "source": [
    "test2\n",
    "andrew y ernesto"
   ]
  },
  {
   "cell_type": "code",
   "execution_count": 1,
   "metadata": {},
   "outputs": [
    {
     "name": "stdout",
     "output_type": "stream",
     "text": [
      "testing\n"
     ]
    }
   ],
   "source": [
    "import pandas as pd\n",
    "import tensorflow as tf\n",
    "import numpy as np\n",
    "import matplotlib.pyplot as plt\n",
    "print(\"testing\")"
   ]
  },
  {
   "cell_type": "code",
   "execution_count": 2,
   "metadata": {},
   "outputs": [
    {
     "name": "stdout",
     "output_type": "stream",
     "text": [
      "       Airline Date_of_Journey    Source Destination                  Route  \\\n",
      "0       IndiGo      24/03/2019  Banglore   New Delhi              BLR → DEL   \n",
      "1    Air India       1/05/2019   Kolkata    Banglore  CCU → IXR → BBI → BLR   \n",
      "2  Jet Airways       9/06/2019     Delhi      Cochin  DEL → LKO → BOM → COK   \n",
      "3       IndiGo      12/05/2019   Kolkata    Banglore        CCU → NAG → BLR   \n",
      "4       IndiGo      01/03/2019  Banglore   New Delhi        BLR → NAG → DEL   \n",
      "\n",
      "  Dep_Time  Arrival_Time Duration Total_Stops Additional_Info  Price  \n",
      "0    22:20  01:10 22 Mar   2h 50m    non-stop         No info   3897  \n",
      "1    05:50         13:15   7h 25m     2 stops         No info   7662  \n",
      "2    09:25  04:25 10 Jun      19h     2 stops         No info  13882  \n",
      "3    18:05         23:30   5h 25m      1 stop         No info   6218  \n",
      "4    16:50         21:35   4h 45m      1 stop         No info  13302  \n"
     ]
    }
   ],
   "source": [
    "dataset = pd.read_excel(\"Data_Train.xlsx\")\n",
    "#print(dataset.describe(include='all'))\n",
    "print(dataset.head())"
   ]
  },
  {
   "cell_type": "code",
   "execution_count": 3,
   "metadata": {},
   "outputs": [],
   "source": [
    "# Función que convierte los datos no numéricos de\n",
    "# la propiedad \"Total_Stops\" en numéricos.\n",
    "# Entrada: stringDtype; Salida: integer\n",
    "def uniform_stops(data):\n",
    "    if type(data) == float: # De ser un dato vacío,\n",
    "        data = 0 # Asigna una cantidad de 0 horas.\n",
    "    elif type(data) != np.int64: # De ser el dato un string,\n",
    "        # inicia el ciclo.\n",
    "        if data == \"non-stop\": # Si \"non-stop\",\n",
    "            data = 0 # Guarda el número de paradas como 0\n",
    "        else: # Sino,\n",
    "            data = int(data[0]) # Guarda el número de paradas que corresponde\n",
    "            # al primer dígito del dato.\n",
    "    return data\n",
    "# Función que convierte los datos no numéricos de\n",
    "# la propiedad \"Duration\" en numéricos.\n",
    "# Entrada: stringDtype; Salida: integer\n",
    "def uniform_duration(data):\n",
    "    if data.find(\"m\") == -1: # Dato con formato “#h”\n",
    "        [horas] = data.split(\" \") # Asigna a \"horas\"\n",
    "        horas = horas.strip(\"h\") # el número de horas\n",
    "        minutos = 0 # y a \"minutos\" 0\n",
    "    elif data.find(\"h\") == -1: # Dato con formato “#m”\n",
    "        [minutos] = data.split(\" \") # Asigna a \"minutos\"\n",
    "        minutos = minutos.strip(\"m\") # el número de minutos\n",
    "        horas = 0 # y a \"horas\" 0\n",
    "    else:\n",
    "        [horas, minutos] = data.split(\" \") # Dato con formato “#h #m”\n",
    "        minutos = minutos.strip(\"m\") # Extrae las horas y minutos\n",
    "        horas = horas.strip(\"h\") # y los asigna a la variable apropiada\n",
    "    # Se suma la cantidad de minutos totales que durará el vuelo\n",
    "    data = int(horas)*60 + int(minutos)\n",
    "    return data\n"
   ]
  },
  {
   "cell_type": "code",
   "execution_count": 4,
   "metadata": {},
   "outputs": [
    {
     "name": "stdout",
     "output_type": "stream",
     "text": [
      "       Duration  Total_Stops     Price\n",
      "0      0.057793         0.00  0.027497\n",
      "1      0.154116         0.50  0.075920\n",
      "2      0.397548         0.50  0.155917\n",
      "3      0.112084         0.25  0.057348\n",
      "4      0.098074         0.25  0.148457\n",
      "...         ...          ...       ...\n",
      "10678  0.050788         0.00  0.030198\n",
      "10679  0.052539         0.00  0.030687\n",
      "10680  0.061296         0.00  0.070351\n",
      "10681  0.054291         0.00  0.140046\n",
      "10682  0.173380         0.50  0.128535\n",
      "\n",
      "[10683 rows x 3 columns]\n"
     ]
    }
   ],
   "source": [
    "# Procesamiento de datos\n",
    "dataset[\"Duration\"] = dataset[\"Duration\"].apply(lambda x: uniform_duration(x))\n",
    "dataset[\"Total_Stops\"] = dataset[\"Total_Stops\"].apply(lambda x: uniform_stops(x))\n",
    "dataset = dataset[[\"Duration\", \"Total_Stops\",\"Price\"]]\n",
    "# Normalizado\n",
    "max_val = dataset.max(axis=0) # Se obtiene el máximo de cada columna\n",
    "min_val = dataset.min(axis=0) # Se obtiene el mínimo de cada columna\n",
    "range = max_val - min_val # Se obtiene la diferencia de los dos\n",
    "dataset = (dataset - min_val)/(range) # Y se utiliza para normalizarlas\n",
    "dataset = dataset.astype(float) # Se asegura que los datos sean tipo float\n",
    "print(dataset)"
   ]
  },
  {
   "cell_type": "code",
   "execution_count": 5,
   "metadata": {},
   "outputs": [
    {
     "name": "stdout",
     "output_type": "stream",
     "text": [
      "       Duration  Total_Stops     Price\n",
      "7116   0.423818         0.25  0.156676\n",
      "2676   0.276708         0.25  0.130889\n",
      "2540   0.521891         0.25  0.101655\n",
      "10005  0.224168         0.25  0.095045\n",
      "8308   0.059545         0.00  0.140059\n",
      "...         ...          ...       ...\n",
      "6621   0.059545         0.00  0.027510\n",
      "947    0.269702         0.25  0.156676\n",
      "8934   0.380035         0.25  0.135365\n",
      "8821   0.614711         0.50  0.174656\n",
      "7513   0.056042         0.00  0.066904\n",
      "\n",
      "[7478 rows x 3 columns]\n",
      "       Duration  Total_Stops     Price\n",
      "1      0.154116         0.50  0.075920\n",
      "3      0.112084         0.25  0.057348\n",
      "4      0.098074         0.25  0.148457\n",
      "10     0.276708         0.25  0.091932\n",
      "12     0.045534         0.00  0.037400\n",
      "...         ...          ...       ...\n",
      "10668  0.152364         0.50  0.250280\n",
      "10669  0.234676         0.25  0.105076\n",
      "10671  0.026270         0.00  0.017247\n",
      "10676  0.180385         0.25  0.103340\n",
      "10682  0.173380         0.50  0.128535\n",
      "\n",
      "[3205 rows x 3 columns]\n"
     ]
    }
   ],
   "source": [
    "train_percentage=0.7\n",
    "# Distribución de los datos\n",
    "trainset = dataset.sample(frac=train_percentage) # Se extraen datos\n",
    "# para el entrenamiento\n",
    "testset = dataset.drop(trainset.index) # Y se le quitan esos mismos\n",
    "# al dataset para crear los datos de prueba\n",
    "print(trainset)\n",
    "print(testset)"
   ]
  },
  {
   "cell_type": "code",
   "execution_count": 6,
   "metadata": {},
   "outputs": [],
   "source": [
    "network = tf.keras.models.Sequential()\n",
    "# Declaración de la capa de entrada\n",
    "network.add(tf.keras.layers.Dense(\n",
    "units=10,\n",
    "input_shape=(2,)))\n",
    "# Ciclo de capas de neuronas intermedias\n",
    "i = 0\n",
    "while i < 2-1:\n",
    "    network.add(tf.keras.layers.Dense(\n",
    "    units=10,\n",
    "    activation=\"relu\"))\n",
    "    i += 1\n",
    "# Declaración de la capa de salida\n",
    "network.add(tf.keras.layers.Dense(\n",
    "units=1,\n",
    "activation=\"sigmoid\"))"
   ]
  },
  {
   "cell_type": "code",
   "execution_count": 7,
   "metadata": {},
   "outputs": [],
   "source": [
    "network.compile(\n",
    "optimizer=\"adam\",\n",
    "loss=\"mse\")"
   ]
  },
  {
   "cell_type": "code",
   "execution_count": 8,
   "metadata": {},
   "outputs": [
    {
     "name": "stdout",
     "output_type": "stream",
     "text": [
      "Epoch 1/40\n",
      "25/25 [==============================] - 2s 19ms/step - loss: 0.1336 - val_loss: 0.1151\n",
      "Epoch 2/40\n",
      "25/25 [==============================] - 0s 4ms/step - loss: 0.0974 - val_loss: 0.0789\n",
      "Epoch 3/40\n",
      "25/25 [==============================] - 0s 4ms/step - loss: 0.0636 - val_loss: 0.0490\n",
      "Epoch 4/40\n",
      "25/25 [==============================] - 0s 6ms/step - loss: 0.0393 - val_loss: 0.0303\n",
      "Epoch 5/40\n",
      "25/25 [==============================] - 0s 4ms/step - loss: 0.0251 - val_loss: 0.0198\n",
      "Epoch 6/40\n",
      "25/25 [==============================] - 0s 4ms/step - loss: 0.0175 - val_loss: 0.0144\n",
      "Epoch 7/40\n",
      "25/25 [==============================] - 0s 4ms/step - loss: 0.0134 - val_loss: 0.0115\n",
      "Epoch 8/40\n",
      "25/25 [==============================] - 0s 4ms/step - loss: 0.0113 - val_loss: 0.0098\n",
      "Epoch 9/40\n",
      "25/25 [==============================] - 0s 6ms/step - loss: 0.0100 - val_loss: 0.0088\n",
      "Epoch 10/40\n",
      "25/25 [==============================] - 0s 6ms/step - loss: 0.0092 - val_loss: 0.0082\n",
      "Epoch 11/40\n",
      "25/25 [==============================] - 0s 6ms/step - loss: 0.0087 - val_loss: 0.0077\n",
      "Epoch 12/40\n",
      "25/25 [==============================] - 0s 5ms/step - loss: 0.0083 - val_loss: 0.0073\n",
      "Epoch 13/40\n",
      "25/25 [==============================] - 0s 5ms/step - loss: 0.0079 - val_loss: 0.0070\n",
      "Epoch 14/40\n",
      "25/25 [==============================] - 0s 6ms/step - loss: 0.0077 - val_loss: 0.0068\n",
      "Epoch 15/40\n",
      "25/25 [==============================] - 0s 6ms/step - loss: 0.0074 - val_loss: 0.0065\n",
      "Epoch 16/40\n",
      "25/25 [==============================] - 0s 4ms/step - loss: 0.0072 - val_loss: 0.0063\n",
      "Epoch 17/40\n",
      "25/25 [==============================] - 0s 4ms/step - loss: 0.0069 - val_loss: 0.0061\n",
      "Epoch 18/40\n",
      "25/25 [==============================] - 0s 4ms/step - loss: 0.0067 - val_loss: 0.0058\n",
      "Epoch 19/40\n",
      "25/25 [==============================] - 0s 4ms/step - loss: 0.0064 - val_loss: 0.0056\n",
      "Epoch 20/40\n",
      "25/25 [==============================] - 0s 5ms/step - loss: 0.0061 - val_loss: 0.0053\n",
      "Epoch 21/40\n",
      "25/25 [==============================] - 0s 4ms/step - loss: 0.0059 - val_loss: 0.0050\n",
      "Epoch 22/40\n",
      "25/25 [==============================] - 0s 5ms/step - loss: 0.0056 - val_loss: 0.0048\n",
      "Epoch 23/40\n",
      "25/25 [==============================] - 0s 4ms/step - loss: 0.0053 - val_loss: 0.0045\n",
      "Epoch 24/40\n",
      "25/25 [==============================] - 0s 4ms/step - loss: 0.0050 - val_loss: 0.0042\n",
      "Epoch 25/40\n",
      "25/25 [==============================] - 0s 4ms/step - loss: 0.0047 - val_loss: 0.0039\n",
      "Epoch 26/40\n",
      "25/25 [==============================] - 0s 5ms/step - loss: 0.0044 - val_loss: 0.0037\n",
      "Epoch 27/40\n",
      "25/25 [==============================] - 0s 4ms/step - loss: 0.0041 - val_loss: 0.0034\n",
      "Epoch 28/40\n",
      "25/25 [==============================] - 0s 4ms/step - loss: 0.0039 - val_loss: 0.0032\n",
      "Epoch 29/40\n",
      "25/25 [==============================] - 0s 4ms/step - loss: 0.0036 - val_loss: 0.0030\n",
      "Epoch 30/40\n",
      "25/25 [==============================] - 0s 4ms/step - loss: 0.0034 - val_loss: 0.0028\n",
      "Epoch 31/40\n",
      "25/25 [==============================] - 0s 4ms/step - loss: 0.0032 - val_loss: 0.0027\n",
      "Epoch 32/40\n",
      "25/25 [==============================] - 0s 6ms/step - loss: 0.0031 - val_loss: 0.0025\n",
      "Epoch 33/40\n",
      "25/25 [==============================] - 0s 6ms/step - loss: 0.0030 - val_loss: 0.0024\n",
      "Epoch 34/40\n",
      "25/25 [==============================] - 0s 6ms/step - loss: 0.0029 - val_loss: 0.0024\n",
      "Epoch 35/40\n",
      "25/25 [==============================] - 0s 5ms/step - loss: 0.0028 - val_loss: 0.0023\n",
      "Epoch 36/40\n",
      "25/25 [==============================] - 0s 6ms/step - loss: 0.0028 - val_loss: 0.0023\n",
      "Epoch 37/40\n",
      "25/25 [==============================] - 0s 4ms/step - loss: 0.0027 - val_loss: 0.0022\n",
      "Epoch 38/40\n",
      "25/25 [==============================] - 0s 4ms/step - loss: 0.0027 - val_loss: 0.0022\n",
      "Epoch 39/40\n",
      "25/25 [==============================] - 0s 5ms/step - loss: 0.0027 - val_loss: 0.0022\n",
      "Epoch 40/40\n",
      "25/25 [==============================] - 0s 6ms/step - loss: 0.0026 - val_loss: 0.0022\n"
     ]
    }
   ],
   "source": [
    "losses = network.fit(x=trainset[[\"Duration\", \"Total_Stops\"]],\n",
    "y=trainset['Price'],\n",
    "validation_data=(\n",
    "testset[[\"Duration\", \"Total_Stops\"]],\n",
    "testset['Price']),\n",
    "batch_size=300,\n",
    "epochs=40\n",
    ")"
   ]
  },
  {
   "cell_type": "code",
   "execution_count": 9,
   "metadata": {},
   "outputs": [
    {
     "data": {
      "image/png": "[encoded data removed]",
      "text/plain": [
       "<Figure size 640x480 with 1 Axes>"
      ]
     },
     "metadata": {},
     "output_type": "display_data"
    }
   ],
   "source": [
    "# Se extrae el historial de error contra iteraciones de la clase\n",
    "loss_df = pd.DataFrame(losses.history)\n",
    "# Se grafica\n",
    "loss_df.loc[:, ['loss', 'val_loss']].plot()\n",
    "# Y se pide que se muestre la ventana en que se graficó\n",
    "plt.show()"
   ]
  },
  {
   "cell_type": "code",
   "execution_count": 10,
   "metadata": {},
   "outputs": [
    {
     "name": "stdout",
     "output_type": "stream",
     "text": [
      "1/1 [==============================] - 0s 133ms/step\n",
      "Dato ingresado:\n",
      "      Duration  Total_Stops    Price\n",
      "9217     165.0          0.0   7171.0\n",
      "3130     860.0          1.0  12351.0\n",
      "6238      95.0          0.0   2227.0\n",
      "6251    1595.0          1.0  12373.0\n",
      "1800    1025.0          1.0  11134.0\n",
      "4518     295.0          1.0   7166.0\n",
      "9281      85.0          0.0   2228.0\n",
      "3282     960.0          1.0  14571.0\n",
      "346      540.0          1.0  16079.0\n",
      "2635     550.0          1.0  26890.0\n",
      "Estimación: \n",
      "      Duration  Total_Stops         Price\n",
      "9217     165.0          0.0   7210.756450\n",
      "3130     860.0          1.0   9849.343550\n",
      "6238      95.0          0.0   7100.263291\n",
      "6251    1595.0          1.0  11809.952059\n",
      "1800    1025.0          1.0  10233.074019\n",
      "4518     295.0          1.0   8649.564675\n",
      "9281      85.0          0.0   7084.648705\n",
      "3282     960.0          1.0  10080.036123\n",
      "346      540.0          1.0   9148.748312\n",
      "2635     550.0          1.0   9169.795621\n"
     ]
    }
   ],
   "source": [
    "# Se eligen 10 datos al azar\n",
    "dato = dataset.sample(frac=10/dataset.shape[0])\n",
    "datoPrueba = dato.drop(columns=[\"Price\"])\n",
    "# Y se predice el precio que tendría, luego de\n",
    "# revertir la normalización\n",
    "precio = network.predict(datoPrueba)\n",
    "print(\"Dato ingresado:\")\n",
    "print(dato*range+ min_val) # Se normalizan los datos\n",
    "dato[\"Price\"] = precio\n",
    "print(\"Estimación: \")\n",
    "print(dato*range+ min_val)"
   ]
  },
  {
   "cell_type": "code",
   "execution_count": 11,
   "metadata": {},
   "outputs": [],
   "source": [
    "from ann_visualizer.visualize import ann_viz;\n",
    "#Build your model here\n",
    "ann_viz(network)"
   ]
  }
 ],
 "metadata": {
  "kernelspec": {
   "display_name": "Python 3",
   "language": "python",
   "name": "python3"
  },
  "language_info": {
   "codemirror_mode": {
    "name": "ipython",
    "version": 3
   },
   "file_extension": ".py",
   "mimetype": "text/x-python",
   "name": "python",
   "nbconvert_exporter": "python",
   "pygments_lexer": "ipython3",
   "version": "3.9.6"
  },
  "orig_nbformat": 4
 },
 "nbformat": 4,
 "nbformat_minor": 2
}

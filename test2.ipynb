{
 "cells": [
  {
   "attachments": {},
   "cell_type": "markdown",
   "metadata": {},
   "source": [
    "test2\n",
    "andrew y ernesto"
   ]
  },
  {
   "cell_type": "code",
   "execution_count": 232,
   "metadata": {},
   "outputs": [
    {
     "name": "stdout",
     "output_type": "stream",
     "text": [
      "testing\n"
     ]
    }
   ],
   "source": [
    "import pandas as pd\n",
    "import tensorflow as tf\n",
    "import numpy as np\n",
    "import matplotlib.pyplot as plt\n",
    "print(\"testing\")"
   ]
  },
  {
   "cell_type": "code",
   "execution_count": 233,
   "metadata": {},
   "outputs": [
    {
     "name": "stdout",
     "output_type": "stream",
     "text": [
      "       Airline Date_of_Journey    Source Destination                  Route  \\\n",
      "0       IndiGo      24/03/2019  Banglore   New Delhi              BLR → DEL   \n",
      "1    Air India       1/05/2019   Kolkata    Banglore  CCU → IXR → BBI → BLR   \n",
      "2  Jet Airways       9/06/2019     Delhi      Cochin  DEL → LKO → BOM → COK   \n",
      "3       IndiGo      12/05/2019   Kolkata    Banglore        CCU → NAG → BLR   \n",
      "4       IndiGo      01/03/2019  Banglore   New Delhi        BLR → NAG → DEL   \n",
      "\n",
      "  Dep_Time  Arrival_Time Duration Total_Stops Additional_Info  Price  \n",
      "0    22:20  01:10 22 Mar   2h 50m    non-stop         No info   3897  \n",
      "1    05:50         13:15   7h 25m     2 stops         No info   7662  \n",
      "2    09:25  04:25 10 Jun      19h     2 stops         No info  13882  \n",
      "3    18:05         23:30   5h 25m      1 stop         No info   6218  \n",
      "4    16:50         21:35   4h 45m      1 stop         No info  13302  \n"
     ]
    }
   ],
   "source": [
    "dataset = pd.read_excel(\"Data_Train.xlsx\")\n",
    "#print(dataset.describe(include='all'))\n",
    "print(dataset.head())"
   ]
  },
  {
   "cell_type": "code",
   "execution_count": 234,
   "metadata": {},
   "outputs": [],
   "source": [
    "# Función que convierte los datos no numéricos de\n",
    "# la propiedad \"Total_Stops\" en numéricos.\n",
    "# Entrada: stringDtype; Salida: integer\n",
    "def uniform_stops(data):\n",
    "    if type(data) == float: # De ser un dato vacío,\n",
    "        data = 0 # Asigna una cantidad de 0 horas.\n",
    "    elif type(data) != numpy.int64: # De ser el dato un string,\n",
    "        # inicia el ciclo.\n",
    "        if data == \"non-stop\": # Si \"non-stop\",\n",
    "            data = 0 # Guarda el número de paradas como 0\n",
    "        else: # Sino,\n",
    "            data = int(data[0]) # Guarda el número de paradas que corresponde\n",
    "            # al primer dígito del dato.\n",
    "    return data\n",
    "# Función que convierte los datos no numéricos de\n",
    "# la propiedad \"Duration\" en numéricos.\n",
    "# Entrada: stringDtype; Salida: integer\n",
    "def uniform_duration(data):\n",
    "    if data.find(\"m\") == -1: # Dato con formato “#h”\n",
    "        [horas] = data.split(\" \") # Asigna a \"horas\"\n",
    "        horas = horas.strip(\"h\") # el número de horas\n",
    "        minutos = 0 # y a \"minutos\" 0\n",
    "    elif data.find(\"h\") == -1: # Dato con formato “#m”\n",
    "        [minutos] = data.split(\" \") # Asigna a \"minutos\"\n",
    "        minutos = minutos.strip(\"m\") # el número de minutos\n",
    "        horas = 0 # y a \"horas\" 0\n",
    "    else:\n",
    "        [horas, minutos] = data.split(\" \") # Dato con formato “#h #m”\n",
    "        minutos = minutos.strip(\"m\") # Extrae las horas y minutos\n",
    "        horas = horas.strip(\"h\") # y los asigna a la variable apropiada\n",
    "    # Se suma la cantidad de minutos totales que durará el vuelo\n",
    "    data = int(horas)*60 + int(minutos)\n",
    "    return data\n"
   ]
  },
  {
   "cell_type": "code",
   "execution_count": 235,
   "metadata": {},
   "outputs": [
    {
     "name": "stdout",
     "output_type": "stream",
     "text": [
      "       Duration  Total_Stops     Price\n",
      "0      0.057793         0.00  0.027497\n",
      "1      0.154116         0.50  0.075920\n",
      "2      0.397548         0.50  0.155917\n",
      "3      0.112084         0.25  0.057348\n",
      "4      0.098074         0.25  0.148457\n",
      "...         ...          ...       ...\n",
      "10678  0.050788         0.00  0.030198\n",
      "10679  0.052539         0.00  0.030687\n",
      "10680  0.061296         0.00  0.070351\n",
      "10681  0.054291         0.00  0.140046\n",
      "10682  0.173380         0.50  0.128535\n",
      "\n",
      "[10683 rows x 3 columns]\n"
     ]
    }
   ],
   "source": [
    "# Procesamiento de datos\n",
    "dataset[\"Duration\"] = dataset[\"Duration\"].apply(lambda x: uniform_duration(x))\n",
    "dataset[\"Total_Stops\"] = dataset[\"Total_Stops\"].apply(lambda x: uniform_stops(x))\n",
    "dataset = dataset[[\"Duration\", \"Total_Stops\",\"Price\"]]\n",
    "# Normalizado\n",
    "max_val = dataset.max(axis=0) # Se obtiene el máximo de cada columna\n",
    "min_val = dataset.min(axis=0) # Se obtiene el mínimo de cada columna\n",
    "range = max_val - min_val # Se obtiene la diferencia de los dos\n",
    "dataset = (dataset - min_val)/(range) # Y se utiliza para normalizarlas\n",
    "dataset = dataset.astype(float) # Se asegura que los datos sean tipo float\n",
    "print(dataset)"
   ]
  },
  {
   "cell_type": "code",
   "execution_count": 236,
   "metadata": {},
   "outputs": [
    {
     "name": "stdout",
     "output_type": "stream",
     "text": [
      "       Duration  Total_Stops     Price\n",
      "1028   0.353765         0.25  0.143261\n",
      "7755   0.150613         0.25  0.149422\n",
      "8021   0.052539         0.00  0.039162\n",
      "8256   0.416813         0.50  0.114684\n",
      "6637   0.056042         0.00  0.036950\n",
      "...         ...          ...       ...\n",
      "8486   0.103327         0.25  0.166617\n",
      "10456  1.000000         0.50  0.243528\n",
      "7441   0.352014         0.25  0.143261\n",
      "9557   0.124343         0.25  0.109359\n",
      "341    0.161121         0.25  0.064769\n",
      "\n",
      "[7478 rows x 3 columns]\n",
      "       Duration  Total_Stops     Price\n",
      "0      0.057793         0.00  0.027497\n",
      "3      0.112084         0.25  0.057348\n",
      "8      0.534151         0.25  0.119970\n",
      "9      0.162872         0.25  0.088305\n",
      "10     0.276708         0.25  0.091932\n",
      "...         ...          ...       ...\n",
      "10664  0.059545         0.00  0.039407\n",
      "10665  0.050788         0.00  0.039162\n",
      "10666  0.518389         0.25  0.109359\n",
      "10671  0.026270         0.00  0.017247\n",
      "10672  0.416813         0.50  0.120780\n",
      "\n",
      "[3205 rows x 3 columns]\n"
     ]
    }
   ],
   "source": [
    "train_percentage=0.7\n",
    "# Distribución de los datos\n",
    "trainset = dataset.sample(frac=train_percentage) # Se extraen datos\n",
    "# para el entrenamiento\n",
    "testset = dataset.drop(trainset.index) # Y se le quitan esos mismos\n",
    "# al dataset para crear los datos de prueba\n",
    "print(trainset)\n",
    "print(testset)"
   ]
  },
  {
   "cell_type": "code",
   "execution_count": 237,
   "metadata": {},
   "outputs": [],
   "source": [
    "network = tf.keras.models.Sequential()\n",
    "# Declaración de la capa de entrada\n",
    "network.add(tf.keras.layers.Dense(\n",
    "units=5,\n",
    "input_shape=(2,)))\n",
    "# Ciclo de capas de neuronas intermedias\n",
    "i = 0\n",
    "while i < 2-1:\n",
    "    network.add(tf.keras.layers.Dense(\n",
    "    units=5,\n",
    "    activation=\"relu\"))\n",
    "    i += 1\n",
    "    # Declaración de la capa de salida\n",
    "    network.add(tf.keras.layers.Dense(\n",
    "    units=1,\n",
    "    activation=\"sigmoid\"))"
   ]
  },
  {
   "cell_type": "code",
   "execution_count": 238,
   "metadata": {},
   "outputs": [],
   "source": [
    "network.compile(\n",
    "optimizer=\"adam\",\n",
    "loss=\"mse\")"
   ]
  },
  {
   "cell_type": "code",
   "execution_count": 239,
   "metadata": {},
   "outputs": [
    {
     "name": "stdout",
     "output_type": "stream",
     "text": [
      "Epoch 1/40\n",
      "25/25 [==============================] - 1s 9ms/step - loss: 0.1751 - val_loss: 0.1650\n",
      "Epoch 2/40\n",
      "25/25 [==============================] - 0s 4ms/step - loss: 0.1545 - val_loss: 0.1408\n",
      "Epoch 3/40\n",
      "25/25 [==============================] - 0s 3ms/step - loss: 0.1281 - val_loss: 0.1127\n",
      "Epoch 4/40\n",
      "25/25 [==============================] - 0s 4ms/step - loss: 0.0998 - val_loss: 0.0847\n",
      "Epoch 5/40\n",
      "25/25 [==============================] - 0s 4ms/step - loss: 0.0730 - val_loss: 0.0600\n",
      "Epoch 6/40\n",
      "25/25 [==============================] - 0s 3ms/step - loss: 0.0508 - val_loss: 0.0407\n",
      "Epoch 7/40\n",
      "25/25 [==============================] - 0s 3ms/step - loss: 0.0343 - val_loss: 0.0273\n",
      "Epoch 8/40\n",
      "25/25 [==============================] - 0s 3ms/step - loss: 0.0233 - val_loss: 0.0188\n",
      "Epoch 9/40\n",
      "25/25 [==============================] - 0s 3ms/step - loss: 0.0164 - val_loss: 0.0136\n",
      "Epoch 10/40\n",
      "25/25 [==============================] - 0s 3ms/step - loss: 0.0123 - val_loss: 0.0105\n",
      "Epoch 11/40\n",
      "25/25 [==============================] - 0s 3ms/step - loss: 0.0098 - val_loss: 0.0086\n",
      "Epoch 12/40\n",
      "25/25 [==============================] - 0s 3ms/step - loss: 0.0082 - val_loss: 0.0075\n",
      "Epoch 13/40\n",
      "25/25 [==============================] - 0s 3ms/step - loss: 0.0072 - val_loss: 0.0067\n",
      "Epoch 14/40\n",
      "25/25 [==============================] - 0s 3ms/step - loss: 0.0066 - val_loss: 0.0062\n",
      "Epoch 15/40\n",
      "25/25 [==============================] - 0s 3ms/step - loss: 0.0062 - val_loss: 0.0059\n",
      "Epoch 16/40\n",
      "25/25 [==============================] - 0s 3ms/step - loss: 0.0058 - val_loss: 0.0056\n",
      "Epoch 17/40\n",
      "25/25 [==============================] - 0s 4ms/step - loss: 0.0056 - val_loss: 0.0054\n",
      "Epoch 18/40\n",
      "25/25 [==============================] - 0s 4ms/step - loss: 0.0054 - val_loss: 0.0053\n",
      "Epoch 19/40\n",
      "25/25 [==============================] - 0s 4ms/step - loss: 0.0053 - val_loss: 0.0051\n",
      "Epoch 20/40\n",
      "25/25 [==============================] - 0s 3ms/step - loss: 0.0051 - val_loss: 0.0050\n",
      "Epoch 21/40\n",
      "25/25 [==============================] - 0s 3ms/step - loss: 0.0050 - val_loss: 0.0049\n",
      "Epoch 22/40\n",
      "25/25 [==============================] - 0s 4ms/step - loss: 0.0049 - val_loss: 0.0048\n",
      "Epoch 23/40\n",
      "25/25 [==============================] - 0s 3ms/step - loss: 0.0048 - val_loss: 0.0047\n",
      "Epoch 24/40\n",
      "25/25 [==============================] - 0s 3ms/step - loss: 0.0047 - val_loss: 0.0046\n",
      "Epoch 25/40\n",
      "25/25 [==============================] - 0s 3ms/step - loss: 0.0045 - val_loss: 0.0044\n",
      "Epoch 26/40\n",
      "25/25 [==============================] - 0s 3ms/step - loss: 0.0044 - val_loss: 0.0043\n",
      "Epoch 27/40\n",
      "25/25 [==============================] - 0s 3ms/step - loss: 0.0042 - val_loss: 0.0041\n",
      "Epoch 28/40\n",
      "25/25 [==============================] - 0s 3ms/step - loss: 0.0041 - val_loss: 0.0041\n",
      "Epoch 29/40\n",
      "25/25 [==============================] - 0s 3ms/step - loss: 0.0041 - val_loss: 0.0040\n",
      "Epoch 30/40\n",
      "25/25 [==============================] - 0s 3ms/step - loss: 0.0040 - val_loss: 0.0039\n",
      "Epoch 31/40\n",
      "25/25 [==============================] - 0s 4ms/step - loss: 0.0039 - val_loss: 0.0038\n",
      "Epoch 32/40\n",
      "25/25 [==============================] - 0s 4ms/step - loss: 0.0038 - val_loss: 0.0037\n",
      "Epoch 33/40\n",
      "25/25 [==============================] - 0s 3ms/step - loss: 0.0037 - val_loss: 0.0037\n",
      "Epoch 34/40\n",
      "25/25 [==============================] - 0s 3ms/step - loss: 0.0036 - val_loss: 0.0036\n",
      "Epoch 35/40\n",
      "25/25 [==============================] - 0s 3ms/step - loss: 0.0036 - val_loss: 0.0035\n",
      "Epoch 36/40\n",
      "25/25 [==============================] - 0s 3ms/step - loss: 0.0035 - val_loss: 0.0034\n",
      "Epoch 37/40\n",
      "25/25 [==============================] - 0s 3ms/step - loss: 0.0034 - val_loss: 0.0034\n",
      "Epoch 38/40\n",
      "25/25 [==============================] - 0s 3ms/step - loss: 0.0033 - val_loss: 0.0033\n",
      "Epoch 39/40\n",
      "25/25 [==============================] - 0s 3ms/step - loss: 0.0033 - val_loss: 0.0032\n",
      "Epoch 40/40\n",
      "25/25 [==============================] - 0s 3ms/step - loss: 0.0032 - val_loss: 0.0032\n"
     ]
    }
   ],
   "source": [
    "losses = network.fit(x=trainset[[\"Duration\", \"Total_Stops\"]],\n",
    "y=trainset['Price'],\n",
    "validation_data=(\n",
    "testset[[\"Duration\", \"Total_Stops\"]],\n",
    "testset['Price']),\n",
    "batch_size=300,\n",
    "epochs=40\n",
    ")"
   ]
  },
  {
   "cell_type": "code",
   "execution_count": 240,
   "metadata": {},
   "outputs": [
    {
     "data": {
      "image/png": "[encoded data removed]",
      "text/plain": [
       "<Figure size 640x480 with 1 Axes>"
      ]
     },
     "metadata": {},
     "output_type": "display_data"
    }
   ],
   "source": [
    "# Se extrae el historial de error contra iteraciones de la clase\n",
    "loss_df = pd.DataFrame(losses.history)\n",
    "# Se grafica\n",
    "loss_df.loc[:, ['loss', 'val_loss']].plot()\n",
    "# Y se pide que se muestre la ventana en que se graficó\n",
    "plt.show()"
   ]
  },
  {
   "cell_type": "code",
   "execution_count": 241,
   "metadata": {},
   "outputs": [
    {
     "name": "stdout",
     "output_type": "stream",
     "text": [
      "1/1 [==============================] - 0s 84ms/step\n",
      "Dato ingresado:\n",
      "      Duration  Total_Stops    Price\n",
      "8337     365.0          1.0   6276.0\n",
      "3206     310.0          1.0   6493.0\n",
      "758      810.0          2.0  10368.0\n",
      "4576     135.0          0.0   3687.0\n",
      "8304     455.0          1.0   6723.0\n",
      "143      515.0          1.0   6442.0\n",
      "8068    1310.0          1.0  11087.0\n",
      "1299     635.0          1.0   6442.0\n",
      "9155     690.0          1.0  10877.0\n",
      "3528     325.0          1.0   7164.0\n",
      "Estimación: \n",
      "      Duration  Total_Stops         Price\n",
      "8337     365.0          1.0   9296.680214\n",
      "3206     310.0          1.0   9255.769117\n",
      "758      810.0          2.0   9841.818958\n",
      "4576     135.0          0.0   8939.017312\n",
      "8304     455.0          1.0   9364.060337\n",
      "143      515.0          1.0   9409.277409\n",
      "8068    1310.0          1.0  10075.905678\n",
      "1299     635.0          1.0   9500.428732\n",
      "9155     690.0          1.0   9545.662604\n",
      "3528     325.0          1.0   9266.909152\n"
     ]
    }
   ],
   "source": [
    "# Se eligen 10 datos al azar\n",
    "dato = dataset.sample(frac=10/dataset.shape[0])\n",
    "datoPrueba = dato.drop(columns=[\"Price\"])\n",
    "# Y se predice el precio que tendría, luego de\n",
    "# revertir la normalización\n",
    "precio = network.predict(datoPrueba)\n",
    "print(\"Dato ingresado:\")\n",
    "print(dato*range+ min_val) # Se normalizan los datos\n",
    "dato[\"Price\"] = precio\n",
    "print(\"Estimación: \")\n",
    "print(dato*range+ min_val)"
   ]
  },
  {
   "cell_type": "code",
   "execution_count": 242,
   "metadata": {},
   "outputs": [
    {
     "ename": "AttributeError",
     "evalue": "module 'keras.layers' has no attribute 'core'",
     "output_type": "error",
     "traceback": [
      "\u001b[1;31m---------------------------------------------------------------------------\u001b[0m",
      "\u001b[1;31mAttributeError\u001b[0m                            Traceback (most recent call last)",
      "Cell \u001b[1;32mIn[242], line 3\u001b[0m\n\u001b[0;32m      1\u001b[0m \u001b[39mfrom\u001b[39;00m \u001b[39mann_visualizer\u001b[39;00m\u001b[39m.\u001b[39;00m\u001b[39mvisualize\u001b[39;00m \u001b[39mimport\u001b[39;00m ann_viz;\n\u001b[0;32m      2\u001b[0m \u001b[39m#Build your model here\u001b[39;00m\n\u001b[1;32m----> 3\u001b[0m ann_viz(network)\n",
      "File \u001b[1;32mc:\\Users\\andre\\AppData\\Local\\Programs\\Python\\Python39\\lib\\site-packages\\ann_visualizer\\visualize.py:44\u001b[0m, in \u001b[0;36mann_viz\u001b[1;34m(model, view, filename, title)\u001b[0m\n\u001b[0;32m     42\u001b[0m input_layer \u001b[39m=\u001b[39m \u001b[39mint\u001b[39m(\u001b[39mstr\u001b[39m(layer\u001b[39m.\u001b[39minput_shape)\u001b[39m.\u001b[39msplit(\u001b[39m\"\u001b[39m\u001b[39m,\u001b[39m\u001b[39m\"\u001b[39m)[\u001b[39m1\u001b[39m][\u001b[39m1\u001b[39m:\u001b[39m-\u001b[39m\u001b[39m1\u001b[39m]);\n\u001b[0;32m     43\u001b[0m hidden_layers_nr \u001b[39m+\u001b[39m\u001b[39m=\u001b[39m \u001b[39m1\u001b[39m;\n\u001b[1;32m---> 44\u001b[0m \u001b[39mif\u001b[39;00m (\u001b[39mtype\u001b[39m(layer) \u001b[39m==\u001b[39m keras\u001b[39m.\u001b[39;49mlayers\u001b[39m.\u001b[39;49mcore\u001b[39m.\u001b[39mDense):\n\u001b[0;32m     45\u001b[0m     hidden_layers\u001b[39m.\u001b[39mappend(\u001b[39mint\u001b[39m(\u001b[39mstr\u001b[39m(layer\u001b[39m.\u001b[39moutput_shape)\u001b[39m.\u001b[39msplit(\u001b[39m\"\u001b[39m\u001b[39m,\u001b[39m\u001b[39m\"\u001b[39m)[\u001b[39m1\u001b[39m][\u001b[39m1\u001b[39m:\u001b[39m-\u001b[39m\u001b[39m1\u001b[39m]));\n\u001b[0;32m     46\u001b[0m     layer_types\u001b[39m.\u001b[39mappend(\u001b[39m\"\u001b[39m\u001b[39mDense\u001b[39m\u001b[39m\"\u001b[39m);\n",
      "\u001b[1;31mAttributeError\u001b[0m: module 'keras.layers' has no attribute 'core'"
     ]
    }
   ],
   "source": [
    "from ann_visualizer.visualize import ann_viz;\n",
    "#Build your model here\n",
    "ann_viz(network)"
   ]
  }
 ],
 "metadata": {
  "kernelspec": {
   "display_name": "Python 3",
   "language": "python",
   "name": "python3"
  },
  "language_info": {
   "codemirror_mode": {
    "name": "ipython",
    "version": 3
   },
   "file_extension": ".py",
   "mimetype": "text/x-python",
   "name": "python",
   "nbconvert_exporter": "python",
   "pygments_lexer": "ipython3",
   "version": "3.9.6"
  },
  "orig_nbformat": 4
 },
 "nbformat": 4,
 "nbformat_minor": 2
}

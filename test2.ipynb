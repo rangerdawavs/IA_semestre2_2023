{
 "cells": [
  {
   "attachments": {},
   "cell_type": "markdown",
   "metadata": {},
   "source": [
    "test2\n",
    "andrew y ernesto"
   ]
  },
  {
   "cell_type": "code",
   "execution_count": 187,
   "metadata": {},
   "outputs": [
    {
     "name": "stdout",
     "output_type": "stream",
     "text": [
      "testing\n"
     ]
    }
   ],
   "source": [
    "import pandas as pd\n",
    "import tensorflow as tf\n",
    "import numpy as np\n",
    "import matplotlib.pyplot as plt\n",
    "print(\"testing\")"
   ]
  },
  {
   "cell_type": "code",
   "execution_count": 188,
   "metadata": {},
   "outputs": [
    {
     "name": "stdout",
     "output_type": "stream",
     "text": [
      "       Airline Date_of_Journey    Source Destination                  Route  \\\n",
      "0       IndiGo      24/03/2019  Banglore   New Delhi              BLR → DEL   \n",
      "1    Air India       1/05/2019   Kolkata    Banglore  CCU → IXR → BBI → BLR   \n",
      "2  Jet Airways       9/06/2019     Delhi      Cochin  DEL → LKO → BOM → COK   \n",
      "3       IndiGo      12/05/2019   Kolkata    Banglore        CCU → NAG → BLR   \n",
      "4       IndiGo      01/03/2019  Banglore   New Delhi        BLR → NAG → DEL   \n",
      "\n",
      "  Dep_Time  Arrival_Time Duration Total_Stops Additional_Info  Price  \n",
      "0    22:20  01:10 22 Mar   2h 50m    non-stop         No info   3897  \n",
      "1    05:50         13:15   7h 25m     2 stops         No info   7662  \n",
      "2    09:25  04:25 10 Jun      19h     2 stops         No info  13882  \n",
      "3    18:05         23:30   5h 25m      1 stop         No info   6218  \n",
      "4    16:50         21:35   4h 45m      1 stop         No info  13302  \n"
     ]
    }
   ],
   "source": [
    "dataset = pd.read_excel(\"Data_Train.xlsx\")\n",
    "#print(dataset.describe(include='all'))\n",
    "print(dataset.head())"
   ]
  },
  {
   "cell_type": "code",
   "execution_count": 189,
   "metadata": {},
   "outputs": [],
   "source": [
    "# Función que convierte los datos no numéricos de\n",
    "# la propiedad \"Total_Stops\" en numéricos.\n",
    "# Entrada: stringDtype; Salida: integer\n",
    "def uniform_stops(data):\n",
    "    if type(data) == float: # De ser un dato vacío,\n",
    "        data = 0 # Asigna una cantidad de 0 horas.\n",
    "    elif type(data) != numpy.int64: # De ser el dato un string,\n",
    "        # inicia el ciclo.\n",
    "        if data == \"non-stop\": # Si \"non-stop\",\n",
    "            data = 0 # Guarda el número de paradas como 0\n",
    "        else: # Sino,\n",
    "            data = int(data[0]) # Guarda el número de paradas que corresponde\n",
    "            # al primer dígito del dato.\n",
    "    return data\n",
    "# Función que convierte los datos no numéricos de\n",
    "# la propiedad \"Duration\" en numéricos.\n",
    "# Entrada: stringDtype; Salida: integer\n",
    "def uniform_duration(data):\n",
    "    if data.find(\"m\") == -1: # Dato con formato “#h”\n",
    "        [horas] = data.split(\" \") # Asigna a \"horas\"\n",
    "        horas = horas.strip(\"h\") # el número de horas\n",
    "        minutos = 0 # y a \"minutos\" 0\n",
    "    elif data.find(\"h\") == -1: # Dato con formato “#m”\n",
    "        [minutos] = data.split(\" \") # Asigna a \"minutos\"\n",
    "        minutos = minutos.strip(\"m\") # el número de minutos\n",
    "        horas = 0 # y a \"horas\" 0\n",
    "    else:\n",
    "        [horas, minutos] = data.split(\" \") # Dato con formato “#h #m”\n",
    "        minutos = minutos.strip(\"m\") # Extrae las horas y minutos\n",
    "        horas = horas.strip(\"h\") # y los asigna a la variable apropiada\n",
    "    # Se suma la cantidad de minutos totales que durará el vuelo\n",
    "    data = int(horas)*60 + int(minutos)\n",
    "    return data\n"
   ]
  },
  {
   "cell_type": "code",
   "execution_count": 190,
   "metadata": {},
   "outputs": [
    {
     "name": "stdout",
     "output_type": "stream",
     "text": [
      "       Duration  Total_Stops     Price\n",
      "0      0.057793         0.00  0.027497\n",
      "1      0.154116         0.50  0.075920\n",
      "2      0.397548         0.50  0.155917\n",
      "3      0.112084         0.25  0.057348\n",
      "4      0.098074         0.25  0.148457\n",
      "...         ...          ...       ...\n",
      "10678  0.050788         0.00  0.030198\n",
      "10679  0.052539         0.00  0.030687\n",
      "10680  0.061296         0.00  0.070351\n",
      "10681  0.054291         0.00  0.140046\n",
      "10682  0.173380         0.50  0.128535\n",
      "\n",
      "[10683 rows x 3 columns]\n"
     ]
    }
   ],
   "source": [
    "# Procesamiento de datos\n",
    "dataset[\"Duration\"] = dataset[\"Duration\"].apply(lambda x: uniform_duration(x))\n",
    "dataset[\"Total_Stops\"] = dataset[\"Total_Stops\"].apply(lambda x: uniform_stops(x))\n",
    "dataset = dataset[[\"Duration\", \"Total_Stops\",\"Price\"]]\n",
    "# Normalizado\n",
    "max_val = dataset.max(axis=0) # Se obtiene el máximo de cada columna\n",
    "min_val = dataset.min(axis=0) # Se obtiene el mínimo de cada columna\n",
    "range = max_val - min_val # Se obtiene la diferencia de los dos\n",
    "dataset = (dataset - min_val)/(range) # Y se utiliza para normalizarlas\n",
    "dataset = dataset.astype(float) # Se asegura que los datos sean tipo float\n",
    "print(dataset)"
   ]
  },
  {
   "cell_type": "code",
   "execution_count": 191,
   "metadata": {},
   "outputs": [
    {
     "name": "stdout",
     "output_type": "stream",
     "text": [
      "       Duration  Total_Stops     Price\n",
      "7420   0.281961         0.25  0.061310\n",
      "9409   0.049037         0.00  0.031060\n",
      "5373   0.227671         0.50  0.100665\n",
      "10251  0.196147         0.25  0.101437\n",
      "3964   0.287215         0.25  0.064705\n",
      "...         ...          ...       ...\n",
      "5341   0.075306         0.25  0.065567\n",
      "5364   0.288967         0.25  0.124124\n",
      "10331  0.180385         0.25  0.128998\n",
      "9503   0.057793         0.00  0.035034\n",
      "9860   0.059545         0.00  0.070351\n",
      "\n",
      "[7478 rows x 3 columns]\n",
      "       Duration  Total_Stops     Price\n",
      "0      0.057793         0.00  0.027497\n",
      "1      0.154116         0.50  0.075920\n",
      "4      0.098074         0.25  0.148457\n",
      "8      0.534151         0.25  0.119970\n",
      "13     0.253940         0.25  0.101655\n",
      "...         ...          ...       ...\n",
      "10670  0.364273         0.50  0.124137\n",
      "10674  0.518389         0.25  0.119970\n",
      "10676  0.180385         0.25  0.103340\n",
      "10679  0.052539         0.00  0.030687\n",
      "10682  0.173380         0.50  0.128535\n",
      "\n",
      "[3205 rows x 3 columns]\n"
     ]
    }
   ],
   "source": [
    "train_percentage=0.7\n",
    "# Distribución de los datos\n",
    "trainset = dataset.sample(frac=train_percentage) # Se extraen datos\n",
    "# para el entrenamiento\n",
    "testset = dataset.drop(trainset.index) # Y se le quitan esos mismos\n",
    "# al dataset para crear los datos de prueba\n",
    "print(trainset)\n",
    "print(testset)"
   ]
  },
  {
   "cell_type": "code",
   "execution_count": 192,
   "metadata": {},
   "outputs": [],
   "source": [
    "network = tf.keras.models.Sequential()\n",
    "# Declaración de la capa de entrada\n",
    "network.add(tf.keras.layers.Dense(\n",
    "units=5,\n",
    "input_shape=(2,)))\n",
    "# Ciclo de capas de neuronas intermedias\n",
    "i = 0\n",
    "while i < 2-1:\n",
    "    network.add(tf.keras.layers.Dense(\n",
    "    units=5,\n",
    "    activation=\"sigmoid\"))\n",
    "    i += 1\n",
    "    # Declaración de la capa de salida\n",
    "    network.add(tf.keras.layers.Dense(\n",
    "    units=1,\n",
    "    activation=\"sigmoid\"))"
   ]
  },
  {
   "cell_type": "code",
   "execution_count": 193,
   "metadata": {},
   "outputs": [],
   "source": [
    "network.compile(\n",
    "optimizer=\"adam\",\n",
    "loss=\"mse\")"
   ]
  },
  {
   "cell_type": "code",
   "execution_count": 194,
   "metadata": {},
   "outputs": [
    {
     "name": "stdout",
     "output_type": "stream",
     "text": [
      "Epoch 1/40\n",
      "25/25 [==============================] - 1s 11ms/step - loss: 0.3779 - val_loss: 0.3593\n",
      "Epoch 2/40\n",
      "25/25 [==============================] - 0s 5ms/step - loss: 0.3457 - val_loss: 0.3271\n",
      "Epoch 3/40\n",
      "25/25 [==============================] - 0s 6ms/step - loss: 0.3134 - val_loss: 0.2949\n",
      "Epoch 4/40\n",
      "25/25 [==============================] - 0s 5ms/step - loss: 0.2811 - val_loss: 0.2627\n",
      "Epoch 5/40\n",
      "25/25 [==============================] - 0s 4ms/step - loss: 0.2491 - val_loss: 0.2311\n",
      "Epoch 6/40\n",
      "25/25 [==============================] - 0s 4ms/step - loss: 0.2177 - val_loss: 0.2004\n",
      "Epoch 7/40\n",
      "25/25 [==============================] - 0s 4ms/step - loss: 0.1877 - val_loss: 0.1716\n",
      "Epoch 8/40\n",
      "25/25 [==============================] - 0s 4ms/step - loss: 0.1600 - val_loss: 0.1454\n",
      "Epoch 9/40\n",
      "25/25 [==============================] - 0s 4ms/step - loss: 0.1353 - val_loss: 0.1225\n",
      "Epoch 10/40\n",
      "25/25 [==============================] - 0s 4ms/step - loss: 0.1140 - val_loss: 0.1032\n",
      "Epoch 11/40\n",
      "25/25 [==============================] - 0s 4ms/step - loss: 0.0961 - val_loss: 0.0872\n",
      "Epoch 12/40\n",
      "25/25 [==============================] - 0s 4ms/step - loss: 0.0815 - val_loss: 0.0741\n",
      "Epoch 13/40\n",
      "25/25 [==============================] - 0s 5ms/step - loss: 0.0695 - val_loss: 0.0635\n",
      "Epoch 14/40\n",
      "25/25 [==============================] - 0s 7ms/step - loss: 0.0597 - val_loss: 0.0548\n",
      "Epoch 15/40\n",
      "25/25 [==============================] - 0s 5ms/step - loss: 0.0518 - val_loss: 0.0477\n",
      "Epoch 16/40\n",
      "25/25 [==============================] - 0s 4ms/step - loss: 0.0453 - val_loss: 0.0419\n",
      "Epoch 17/40\n",
      "25/25 [==============================] - 0s 4ms/step - loss: 0.0399 - val_loss: 0.0371\n",
      "Epoch 18/40\n",
      "25/25 [==============================] - 0s 4ms/step - loss: 0.0354 - val_loss: 0.0330\n",
      "Epoch 19/40\n",
      "25/25 [==============================] - 0s 4ms/step - loss: 0.0316 - val_loss: 0.0296\n",
      "Epoch 20/40\n",
      "25/25 [==============================] - 0s 4ms/step - loss: 0.0284 - val_loss: 0.0267\n",
      "Epoch 21/40\n",
      "25/25 [==============================] - 0s 4ms/step - loss: 0.0257 - val_loss: 0.0242\n",
      "Epoch 22/40\n",
      "25/25 [==============================] - 0s 4ms/step - loss: 0.0233 - val_loss: 0.0221\n",
      "Epoch 23/40\n",
      "25/25 [==============================] - 0s 4ms/step - loss: 0.0213 - val_loss: 0.0202\n",
      "Epoch 24/40\n",
      "25/25 [==============================] - 0s 4ms/step - loss: 0.0195 - val_loss: 0.0186\n",
      "Epoch 25/40\n",
      "25/25 [==============================] - 0s 5ms/step - loss: 0.0180 - val_loss: 0.0172\n",
      "Epoch 26/40\n",
      "25/25 [==============================] - 0s 4ms/step - loss: 0.0166 - val_loss: 0.0159\n",
      "Epoch 27/40\n",
      "25/25 [==============================] - 0s 4ms/step - loss: 0.0154 - val_loss: 0.0148\n",
      "Epoch 28/40\n",
      "25/25 [==============================] - 0s 4ms/step - loss: 0.0143 - val_loss: 0.0138\n",
      "Epoch 29/40\n",
      "25/25 [==============================] - 0s 4ms/step - loss: 0.0134 - val_loss: 0.0130\n",
      "Epoch 30/40\n",
      "25/25 [==============================] - 0s 4ms/step - loss: 0.0125 - val_loss: 0.0122\n",
      "Epoch 31/40\n",
      "25/25 [==============================] - 0s 4ms/step - loss: 0.0118 - val_loss: 0.0115\n",
      "Epoch 32/40\n",
      "25/25 [==============================] - 0s 4ms/step - loss: 0.0111 - val_loss: 0.0108\n",
      "Epoch 33/40\n",
      "25/25 [==============================] - 0s 4ms/step - loss: 0.0105 - val_loss: 0.0102\n",
      "Epoch 34/40\n",
      "25/25 [==============================] - 0s 4ms/step - loss: 0.0099 - val_loss: 0.0097\n",
      "Epoch 35/40\n",
      "25/25 [==============================] - 0s 4ms/step - loss: 0.0094 - val_loss: 0.0093\n",
      "Epoch 36/40\n",
      "25/25 [==============================] - 0s 5ms/step - loss: 0.0089 - val_loss: 0.0088\n",
      "Epoch 37/40\n",
      "25/25 [==============================] - 0s 4ms/step - loss: 0.0085 - val_loss: 0.0084\n",
      "Epoch 38/40\n",
      "25/25 [==============================] - 0s 4ms/step - loss: 0.0081 - val_loss: 0.0081\n",
      "Epoch 39/40\n",
      "25/25 [==============================] - 0s 4ms/step - loss: 0.0078 - val_loss: 0.0077\n",
      "Epoch 40/40\n",
      "25/25 [==============================] - 0s 9ms/step - loss: 0.0074 - val_loss: 0.0074\n"
     ]
    }
   ],
   "source": [
    "losses = network.fit(x=trainset[[\"Duration\", \"Total_Stops\"]],\n",
    "y=trainset['Price'],\n",
    "validation_data=(\n",
    "testset[[\"Duration\", \"Total_Stops\"]],\n",
    "testset['Price']),\n",
    "batch_size=300,\n",
    "epochs=40\n",
    ")"
   ]
  },
  {
   "cell_type": "code",
   "execution_count": 195,
   "metadata": {},
   "outputs": [
    {
     "data": {
      "image/png": "[encoded data removed]",
      "text/plain": [
       "<Figure size 640x480 with 1 Axes>"
      ]
     },
     "metadata": {},
     "output_type": "display_data"
    }
   ],
   "source": [
    "# Se extrae el historial de error contra iteraciones de la clase\n",
    "loss_df = pd.DataFrame(losses.history)\n",
    "# Se grafica\n",
    "loss_df.loc[:, ['loss', 'val_loss']].plot()\n",
    "# Y se pide que se muestre la ventana en que se graficó\n",
    "plt.show()"
   ]
  },
  {
   "cell_type": "code",
   "execution_count": 196,
   "metadata": {},
   "outputs": [
    {
     "name": "stdout",
     "output_type": "stream",
     "text": [
      "1/1 [==============================] - 0s 75ms/step\n",
      "Dato ingresado:\n",
      "       Duration  Total_Stops    Price\n",
      "1142     1025.0          2.0  13014.0\n",
      "8086     1295.0          1.0  13401.0\n",
      "3224      170.0          0.0   8033.0\n",
      "10640    1475.0          1.0  14053.0\n",
      "4214      135.0          0.0   3543.0\n",
      "1247      350.0          1.0  15103.0\n",
      "3846      175.0          0.0   6741.0\n",
      "838      1210.0          1.0  15554.0\n",
      "7521     1620.0          2.0  14508.0\n",
      "2258      435.0          1.0  12284.0\n",
      "Estimación: \n",
      "       Duration  Total_Stops         Price\n",
      "1142     1025.0          2.0  12758.967181\n",
      "8086     1295.0          1.0  12886.860345\n",
      "3224      170.0          0.0  14268.348658\n",
      "10640    1475.0          1.0  12831.495008\n",
      "4214      135.0          0.0  14319.336766\n",
      "1247      350.0          1.0  13344.916803\n",
      "3846      175.0          0.0  14261.186131\n",
      "838      1210.0          1.0  12915.782726\n",
      "7521     1620.0          2.0  12648.547015\n",
      "2258      435.0          1.0  13288.607199\n"
     ]
    }
   ],
   "source": [
    "# Se eligen 10 datos al azar\n",
    "dato = dataset.sample(frac=10/dataset.shape[0])\n",
    "datoPrueba = dato.drop(columns=[\"Price\"])\n",
    "# Y se predice el precio que tendría, luego de\n",
    "# revertir la normalización\n",
    "precio = network.predict(datoPrueba)\n",
    "print(\"Dato ingresado:\")\n",
    "print(dato*range+ min_val) # Se normalizan los datos\n",
    "dato[\"Price\"] = precio\n",
    "print(\"Estimación: \")\n",
    "print(dato*range+ min_val)"
   ]
  }
 ],
 "metadata": {
  "kernelspec": {
   "display_name": "Python 3",
   "language": "python",
   "name": "python3"
  },
  "language_info": {
   "codemirror_mode": {
    "name": "ipython",
    "version": 3
   },
   "file_extension": ".py",
   "mimetype": "text/x-python",
   "name": "python",
   "nbconvert_exporter": "python",
   "pygments_lexer": "ipython3",
   "version": "3.9.6"
  },
  "orig_nbformat": 4
 },
 "nbformat": 4,
 "nbformat_minor": 2
}

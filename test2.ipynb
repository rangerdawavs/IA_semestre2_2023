{
 "cells": [
  {
   "attachments": {},
   "cell_type": "markdown",
   "metadata": {},
   "source": [
    "test2\n",
    "andrew y ernesto"
   ]
  },
  {
   "cell_type": "code",
   "execution_count": 2,
   "metadata": {},
   "outputs": [
    {
     "name": "stdout",
     "output_type": "stream",
     "text": [
      "testing\n"
     ]
    }
   ],
   "source": [
    "import pandas\n",
    "import tensorflow\n",
    "print(\"testing\")"
   ]
  },
  {
   "cell_type": "code",
   "execution_count": 3,
   "metadata": {},
   "outputs": [
    {
     "name": "stdout",
     "output_type": "stream",
     "text": [
      "           Airline Date_of_Journey    Source Destination  \\\n",
      "0           IndiGo      24/03/2019  Banglore   New Delhi   \n",
      "1        Air India       1/05/2019   Kolkata    Banglore   \n",
      "2      Jet Airways       9/06/2019     Delhi      Cochin   \n",
      "3           IndiGo      12/05/2019   Kolkata    Banglore   \n",
      "4           IndiGo      01/03/2019  Banglore   New Delhi   \n",
      "...            ...             ...       ...         ...   \n",
      "10678     Air Asia       9/04/2019   Kolkata    Banglore   \n",
      "10679    Air India      27/04/2019   Kolkata    Banglore   \n",
      "10680  Jet Airways      27/04/2019  Banglore       Delhi   \n",
      "10681      Vistara      01/03/2019  Banglore   New Delhi   \n",
      "10682    Air India       9/05/2019     Delhi      Cochin   \n",
      "\n",
      "                       Route Dep_Time  Arrival_Time Duration Total_Stops  \\\n",
      "0                  BLR → DEL    22:20  01:10 22 Mar   2h 50m    non-stop   \n",
      "1      CCU → IXR → BBI → BLR    05:50         13:15   7h 25m     2 stops   \n",
      "2      DEL → LKO → BOM → COK    09:25  04:25 10 Jun      19h     2 stops   \n",
      "3            CCU → NAG → BLR    18:05         23:30   5h 25m      1 stop   \n",
      "4            BLR → NAG → DEL    16:50         21:35   4h 45m      1 stop   \n",
      "...                      ...      ...           ...      ...         ...   \n",
      "10678              CCU → BLR    19:55         22:25   2h 30m    non-stop   \n",
      "10679              CCU → BLR    20:45         23:20   2h 35m    non-stop   \n",
      "10680              BLR → DEL    08:20         11:20       3h    non-stop   \n",
      "10681              BLR → DEL    11:30         14:10   2h 40m    non-stop   \n",
      "10682  DEL → GOI → BOM → COK    10:55         19:15   8h 20m     2 stops   \n",
      "\n",
      "      Additional_Info  Price  \n",
      "0             No info   3897  \n",
      "1             No info   7662  \n",
      "2             No info  13882  \n",
      "3             No info   6218  \n",
      "4             No info  13302  \n",
      "...               ...    ...  \n",
      "10678         No info   4107  \n",
      "10679         No info   4145  \n",
      "10680         No info   7229  \n",
      "10681         No info  12648  \n",
      "10682         No info  11753  \n",
      "\n",
      "[10683 rows x 11 columns]\n"
     ]
    }
   ],
   "source": [
    "dataset = pandas.read_excel(\"Data_Train.xlsx\")\n",
    "print(dataset)"
   ]
  },
  {
   "cell_type": "code",
   "execution_count": null,
   "metadata": {},
   "outputs": [],
   "source": []
  }
 ],
 "metadata": {
  "kernelspec": {
   "display_name": "Python 3",
   "language": "python",
   "name": "python3"
  },
  "language_info": {
   "codemirror_mode": {
    "name": "ipython",
    "version": 3
   },
   "file_extension": ".py",
   "mimetype": "text/x-python",
   "name": "python",
   "nbconvert_exporter": "python",
   "pygments_lexer": "ipython3",
   "version": "3.9.6"
  },
  "orig_nbformat": 4
 },
 "nbformat": 4,
 "nbformat_minor": 2
}
